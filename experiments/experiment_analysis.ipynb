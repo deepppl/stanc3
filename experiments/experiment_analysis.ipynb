{
 "metadata": {
  "language_info": {
   "codemirror_mode": {
    "name": "ipython",
    "version": 3
   },
   "file_extension": ".py",
   "mimetype": "text/x-python",
   "name": "python",
   "nbconvert_exporter": "python",
   "pygments_lexer": "ipython3",
   "version": "3.8.2-final"
  },
  "orig_nbformat": 2,
  "kernelspec": {
   "name": "python3",
   "display_name": "Python 3"
  }
 },
 "nbformat": 4,
 "nbformat_minor": 2,
 "cells": [
  {
   "cell_type": "code",
   "execution_count": 1,
   "metadata": {},
   "outputs": [],
   "source": [
    "import pandas as pd"
   ]
  },
  {
   "cell_type": "code",
   "execution_count": 2,
   "metadata": {},
   "outputs": [],
   "source": [
    "def preprocess(name, csvfile):\n",
    "    df = pd.read_csv(csvfile, index_col=0)\n",
    "    tfrmt = lambda x: x if pd.isna(x) else f\"{x / 3600:02.0f}:{x / 60 % 60:02.0f}:{x % 60:02.0f}\"\n",
    "    df['duration'] = df['time'].apply(tfrmt)\n",
    "    df.columns = [f\"{name}_{x}\" for x in df.columns]\n",
    "    return df"
   ]
  },
  {
   "cell_type": "code",
   "execution_count": 3,
   "metadata": {},
   "outputs": [],
   "source": [
    "pyro_mixed = preprocess(\"pyro_mixed\", \"201104_1633_pyro_mixed.csv\")\n",
    "numpyro_mixed = preprocess(\"numpyro_mixed\", \"201113_0434_numpyro_mixed.csv\")\n",
    "numpyro_comprehensive = preprocess(\"numpyro_comprehensive\", \"201113_0515_numpyro_comprehensive.csv\")\n",
    "numpyro_generative = preprocess(\"numpyro_generative\", \"201113_0546_numpyro_generative.csv\")"
   ]
  },
  {
   "cell_type": "code",
   "execution_count": 4,
   "metadata": {},
   "outputs": [],
   "source": [
    "results = pd.concat([pyro_mixed, numpyro_mixed, numpyro_comprehensive, numpyro_generative], axis=1)\n",
    "results['example'] = results.index.map(lambda x: x.split(\"-\")[1])\n",
    "results['data'] = results.index.map(lambda x: x.split(\"-\")[0])\n",
    "results = results.sort_values(by='example')"
   ]
  },
  {
   "cell_type": "code",
   "execution_count": 5,
   "metadata": {},
   "outputs": [
    {
     "output_type": "stream",
     "name": "stdout",
     "text": [
      "| example                   | data                 | pyro_mixed_status   | numpyro_mixed_status   | numpyro_comprehensive_status   | numpyro_generative_status   |\n|:--------------------------|:---------------------|:--------------------|:-----------------------|:-------------------------------|:----------------------------|\n| accel_gp                  | mcycle_gp            | error               | error                  | error                          | error                       |\n| arK                       | arK                  | success             | mismatch               | mismatch                       | mismatch                    |\n| arma11                    | arma                 | success             | error                  | error                          | error                       |\n| blr                       | sblrc                | success             | success                | success                        | error                       |\n| blr                       | sblri                | success             | success                | success                        | error                       |\n| diamonds                  | diamonds             | error               | error                  | error                          | error                       |\n| dogs                      | dogs                 | success             | mismatch               | error                          | mismatch                    |\n| dogs_log                  | dogs                 | success             | success                | success                        | error                       |\n| earn_height               | earnings             | success             | success                | success                        | error                       |\n| eight_schools_centered    | eight_schools        | success             | success                | success                        | success                     |\n| eight_schools_noncentered | eight_schools        | mismatch            | mismatch               | success                        | mismatch                    |\n| garch11                   | garch                | mismatch            | error                  | error                          | error                       |\n| gp_pois_regr              | gp_pois_regr         | error               | mismatch               | mismatch                       | mismatch                    |\n| gp_regr                   | gp_pois_regr         | error               | error                  | error                          | error                       |\n| hmm_drive_0               | bball_drive_event_0  | success             | error                  | error                          | error                       |\n| hmm_drive_1               | bball_drive_event_1  | error               | error                  | error                          | error                       |\n| hmm_example               | hmm_example          | success             | error                  | error                          | error                       |\n| kidscore_interaction      | kidiq                | success             | success                | success                        | error                       |\n| kidscore_interaction_c    | kidiq_with_mom_work  | success             | success                | success                        | error                       |\n| kidscore_interaction_c2   | kidiq_with_mom_work  | success             | success                | success                        | error                       |\n| kidscore_interaction_z    | kidiq_with_mom_work  | success             | success                | success                        | error                       |\n| kidscore_mom_work         | kidiq_with_mom_work  | success             | success                | success                        | error                       |\n| kidscore_momhs            | kidiq                | success             | success                | success                        | error                       |\n| kidscore_momhsiq          | kidiq                | success             | success                | success                        | error                       |\n| kidscore_momiq            | kidiq                | success             | success                | success                        | error                       |\n| kilpisjarvi               | kilpisjarvi_mod      | success             | success                | success                        | error                       |\n| log10earn_height          | earnings             | success             | mismatch               | mismatch                       | error                       |\n| logearn_height            | earnings             | success             | success                | success                        | error                       |\n| logearn_height_male       | earnings             | success             | success                | success                        | error                       |\n| logearn_interaction       | earnings             | success             | success                | success                        | error                       |\n| logearn_interaction_z     | earnings             | success             | success                | success                        | error                       |\n| logearn_logheight_male    | earnings             | success             | success                | success                        | error                       |\n| logmesquite               | mesquite             | success             | success                | success                        | error                       |\n| logmesquite_logva         | mesquite             | success             | success                | success                        | error                       |\n| logmesquite_logvas        | mesquite             | success             | success                | success                        | error                       |\n| logmesquite_logvash       | mesquite             | success             | success                | success                        | error                       |\n| logmesquite_logvolume     | mesquite             | success             | success                | success                        | error                       |\n| lotka_volterra            | hudson_lynx_hare     | error               | error                  | error                          | error                       |\n| low_dim_gauss_mix         | low_dim_gauss_mix    | mismatch            | mismatch               | mismatch                       | error                       |\n| mesquite                  | mesquite             | success             | success                | success                        | error                       |\n| nes                       | nes1980              | success             | success                | success                        | error                       |\n| nes                       | nes1976              | success             | success                | success                        | error                       |\n| nes                       | nes1992              | success             | success                | success                        | error                       |\n| nes                       | nes1984              | success             | success                | success                        | error                       |\n| nes                       | nes1972              | success             | success                | success                        | error                       |\n| nes                       | nes2000              | success             | success                | success                        | error                       |\n| nes                       | nes1996              | success             | success                | success                        | error                       |\n| nes                       | nes1988              | success             | success                | success                        | error                       |\n| one_comp_mm_elim_abs      | one_comp_mm_elim_abs | error               | error                  | error                          | error                       |\n"
     ]
    }
   ],
   "source": [
    "summary = results[[\"example\", \"data\", \"pyro_mixed_status\", \"numpyro_mixed_status\", \"numpyro_comprehensive_status\", \"numpyro_generative_status\"]]\n",
    "print(summary.to_markdown(index=False))"
   ]
  },
  {
   "cell_type": "code",
   "execution_count": 6,
   "metadata": {},
   "outputs": [
    {
     "output_type": "stream",
     "name": "stdout",
     "text": [
      "\\begin{tabular}{llllll}\n\\toprule\n                   example &                  data & pyro\\_mixed\\_status & numpyro\\_mixed\\_status & numpyro\\_comprehensive\\_status & numpyro\\_generative\\_status \\\\\n\\midrule\n                  accel\\_gp &             mcycle\\_gp &             emark &                emark &                        emark &                     emark \\\\\n                       arK &                   arK &             smark &                mmark &                        mmark &                     mmark \\\\\n                    arma11 &                  arma &             smark &                emark &                        emark &                     emark \\\\\n                       blr &                 sblrc &             smark &                smark &                        smark &                     emark \\\\\n                       blr &                 sblri &             smark &                smark &                        smark &                     emark \\\\\n                  diamonds &              diamonds &             emark &                emark &                        emark &                     emark \\\\\n                      dogs &                  dogs &             smark &                mmark &                        emark &                     mmark \\\\\n                  dogs\\_log &                  dogs &             smark &                smark &                        smark &                     emark \\\\\n               earn\\_height &              earnings &             smark &                smark &                        smark &                     emark \\\\\n    eight\\_schools\\_centered &         eight\\_schools &             smark &                smark &                        smark &                     smark \\\\\n eight\\_schools\\_noncentered &         eight\\_schools &             mmark &                mmark &                        smark &                     mmark \\\\\n                   garch11 &                 garch &             mmark &                emark &                        emark &                     emark \\\\\n              gp\\_pois\\_regr &          gp\\_pois\\_regr &             emark &                mmark &                        mmark &                     mmark \\\\\n                   gp\\_regr &          gp\\_pois\\_regr &             emark &                emark &                        emark &                     emark \\\\\n               hmm\\_drive\\_0 &   bball\\_drive\\_event\\_0 &             smark &                emark &                        emark &                     emark \\\\\n               hmm\\_drive\\_1 &   bball\\_drive\\_event\\_1 &             emark &                emark &                        emark &                     emark \\\\\n               hmm\\_example &           hmm\\_example &             smark &                emark &                        emark &                     emark \\\\\n      kidscore\\_interaction &                 kidiq &             smark &                smark &                        smark &                     emark \\\\\n    kidscore\\_interaction\\_c &   kidiq\\_with\\_mom\\_work &             smark &                smark &                        smark &                     emark \\\\\n   kidscore\\_interaction\\_c2 &   kidiq\\_with\\_mom\\_work &             smark &                smark &                        smark &                     emark \\\\\n    kidscore\\_interaction\\_z &   kidiq\\_with\\_mom\\_work &             smark &                smark &                        smark &                     emark \\\\\n         kidscore\\_mom\\_work &   kidiq\\_with\\_mom\\_work &             smark &                smark &                        smark &                     emark \\\\\n            kidscore\\_momhs &                 kidiq &             smark &                smark &                        smark &                     emark \\\\\n          kidscore\\_momhsiq &                 kidiq &             smark &                smark &                        smark &                     emark \\\\\n            kidscore\\_momiq &                 kidiq &             smark &                smark &                        smark &                     emark \\\\\n               kilpisjarvi &       kilpisjarvi\\_mod &             smark &                smark &                        smark &                     emark \\\\\n          log10earn\\_height &              earnings &             smark &                mmark &                        mmark &                     emark \\\\\n            logearn\\_height &              earnings &             smark &                smark &                        smark &                     emark \\\\\n       logearn\\_height\\_male &              earnings &             smark &                smark &                        smark &                     emark \\\\\n       logearn\\_interaction &              earnings &             smark &                smark &                        smark &                     emark \\\\\n     logearn\\_interaction\\_z &              earnings &             smark &                smark &                        smark &                     emark \\\\\n    logearn\\_logheight\\_male &              earnings &             smark &                smark &                        smark &                     emark \\\\\n               logmesquite &              mesquite &             smark &                smark &                        smark &                     emark \\\\\n         logmesquite\\_logva &              mesquite &             smark &                smark &                        smark &                     emark \\\\\n        logmesquite\\_logvas &              mesquite &             smark &                smark &                        smark &                     emark \\\\\n       logmesquite\\_logvash &              mesquite &             smark &                smark &                        smark &                     emark \\\\\n     logmesquite\\_logvolume &              mesquite &             smark &                smark &                        smark &                     emark \\\\\n            lotka\\_volterra &      hudson\\_lynx\\_hare &             emark &                emark &                        emark &                     emark \\\\\n         low\\_dim\\_gauss\\_mix &     low\\_dim\\_gauss\\_mix &             mmark &                mmark &                        mmark &                     emark \\\\\n                  mesquite &              mesquite &             smark &                smark &                        smark &                     emark \\\\\n                       nes &               nes1980 &             smark &                smark &                        smark &                     emark \\\\\n                       nes &               nes1976 &             smark &                smark &                        smark &                     emark \\\\\n                       nes &               nes1992 &             smark &                smark &                        smark &                     emark \\\\\n                       nes &               nes1984 &             smark &                smark &                        smark &                     emark \\\\\n                       nes &               nes1972 &             smark &                smark &                        smark &                     emark \\\\\n                       nes &               nes2000 &             smark &                smark &                        smark &                     emark \\\\\n                       nes &               nes1996 &             smark &                smark &                        smark &                     emark \\\\\n                       nes &               nes1988 &             smark &                smark &                        smark &                     emark \\\\\n      one\\_comp\\_mm\\_elim\\_abs &  one\\_comp\\_mm\\_elim\\_abs &             emark &                emark &                        emark &                     emark \\\\\n\\bottomrule\n\\end{tabular}\n\n"
     ]
    }
   ],
   "source": [
    "tex_summary = summary.replace(\"success\", \"smark\").replace(\"mismatch\", \"mmark\").replace(\"error\", \"emark\")\n",
    "print(tex_summary.to_latex(index=False))"
   ]
  },
  {
   "cell_type": "code",
   "execution_count": null,
   "metadata": {},
   "outputs": [],
   "source": []
  },
  {
   "cell_type": "code",
   "execution_count": null,
   "metadata": {},
   "outputs": [],
   "source": []
  },
  {
   "cell_type": "code",
   "execution_count": null,
   "metadata": {},
   "outputs": [],
   "source": []
  },
  {
   "cell_type": "code",
   "execution_count": null,
   "metadata": {},
   "outputs": [],
   "source": []
  }
 ]
}