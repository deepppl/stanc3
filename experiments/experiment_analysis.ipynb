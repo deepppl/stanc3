{
 "metadata": {
  "language_info": {
   "codemirror_mode": {
    "name": "ipython",
    "version": 3
   },
   "file_extension": ".py",
   "mimetype": "text/x-python",
   "name": "python",
   "nbconvert_exporter": "python",
   "pygments_lexer": "ipython3",
   "version": "3.8.2-final"
  },
  "orig_nbformat": 2,
  "kernelspec": {
   "name": "python3",
   "display_name": "Python 3"
  }
 },
 "nbformat": 4,
 "nbformat_minor": 2,
 "cells": [
  {
   "cell_type": "code",
   "execution_count": 1,
   "metadata": {},
   "outputs": [],
   "source": [
    "import pandas as pd"
   ]
  },
  {
   "cell_type": "code",
   "execution_count": 19,
   "metadata": {},
   "outputs": [],
   "source": [
    "def preprocess(name, csvfile):\n",
    "    df = pd.read_csv(csvfile, index_col=0)\n",
    "    tfrmt = lambda x: x if pd.isna(x) else f\"{x // 3600:02.0f}:{x // 60 % 60:02.0f}:{x % 60:02.0f}\"\n",
    "    df['duration'] = df['time'].apply(tfrmt)\n",
    "    df.columns = [f\"{name}_{x}\" for x in df.columns]\n",
    "    return df"
   ]
  },
  {
   "cell_type": "code",
   "execution_count": 20,
   "metadata": {},
   "outputs": [],
   "source": [
    "pyro_mixed = preprocess(\"pyro_mixed\", \"201104_1633_pyro_mixed.csv\")\n",
    "numpyro_mixed = preprocess(\"numpyro_mixed\", \"201113_0434_numpyro_mixed.csv\")\n",
    "numpyro_comprehensive = preprocess(\"numpyro_comprehensive\", \"201113_0515_numpyro_comprehensive.csv\")\n",
    "numpyro_generative = preprocess(\"numpyro_generative\", \"201118_1505_numpyro_generative.csv\")\n",
    "stan = preprocess(\"stan\", \"201114_0927_stan_mixed.csv\")"
   ]
  },
  {
   "cell_type": "code",
   "execution_count": 21,
   "metadata": {},
   "outputs": [],
   "source": [
    "results = pd.concat([pyro_mixed, numpyro_mixed, numpyro_comprehensive, numpyro_generative, stan], axis=1)\n",
    "results = results[results.stan_status != \"mismatch\"]\n",
    "results['example'] = results.index.map(lambda x: x.split(\"-\")[1])\n",
    "results['data'] = results.index.map(lambda x: x.split(\"-\")[0])\n",
    "results = results.sort_values(by='example')\n",
    "results['speedup'] = results.stan_time / results.numpyro_mixed_time\n",
    "results['speedup'] = results.speedup.apply(lambda x: f\"{x:2.1f}\")"
   ]
  },
  {
   "cell_type": "code",
   "execution_count": 22,
   "metadata": {},
   "outputs": [
    {
     "output_type": "stream",
     "name": "stdout",
     "text": [
      "| example                   | data                 |   stan_time | stan_duration   |   numpyro_mixed_time |     speedup |\n|:--------------------------|:---------------------|------------:|:----------------|---------------------:|------------:|\n| arK                       | arK                  |    55.5189  | 00:00:56        |             11.8642  |   4.67952   |\n| dogs                      | dogs                 |   115.64    | 00:01:56        |             41.6432  |   2.77693   |\n| dogs_log                  | dogs                 |    86.5672  | 00:01:27        |             42.0574  |   2.05831   |\n| earn_height               | earnings             |    79.0459  | 00:01:19        |             11.7242  |   6.74213   |\n| eight_schools_centered    | eight_schools        |    12.0772  | 00:00:12        |              6.8801  |   1.75538   |\n| eight_schools_noncentered | eight_schools        |     1.95722 | 00:00:02        |             47.4012  |   0.0412905 |\n| garch11                   | garch                |    16.5288  | 00:00:17        |            nan       | nan         |\n| gp_regr                   | gp_pois_regr         |     2.51743 | 00:00:03        |             11.492   |   0.21906   |\n| hmm_drive_0               | bball_drive_event_0  |   238.794   | 00:03:59        |            nan       | nan         |\n| hmm_example               | hmm_example          |    30.3118  | 00:00:30        |            nan       | nan         |\n| kidscore_interaction      | kidiq                |   105.931   | 00:01:46        |             10.4591  |  10.1281    |\n| kidscore_interaction_c2   | kidiq_with_mom_work  |    10.7047  | 00:00:11        |              6.2866  |   1.70278   |\n| kidscore_mom_work         | kidiq_with_mom_work  |    14.1856  | 00:00:14        |              6.73396 |   2.10657   |\n| kidscore_momhs            | kidiq                |     5.43751 | 00:00:05        |              5.80089 |   0.937358  |\n| kidscore_momhsiq          | kidiq                |    27.3311  | 00:00:27        |              7.10752 |   3.84538   |\n| kidscore_momiq            | kidiq                |    12.6912  | 00:00:13        |              6.64635 |   1.9095    |\n| kilpisjarvi               | kilpisjarvi_mod      |    59.9052  | 00:00:60        |             15.2866  |   3.91881   |\n| log10earn_height          | earnings             |    79.505   | 00:01:20        |             11.8341  |   6.7183    |\n| logearn_height_male       | earnings             |   215.967   | 00:03:36        |             16.6325  |  12.9847    |\n| logearn_logheight_male    | earnings             |   852.724   | 00:14:13        |             48.8635  |  17.4512    |\n| logmesquite_logva         | mesquite             |     5.5881  | 00:00:06        |              6.47357 |   0.863219  |\n| logmesquite_logvas        | mesquite             |    14.416   | 00:00:14        |              7.3426  |   1.96333   |\n| logmesquite_logvash       | mesquite             |    11.9656  | 00:00:12        |              7.17051 |   1.66873   |\n| lotka_volterra            | hudson_lynx_hare     |   182.499   | 00:03:02        |            nan       | nan         |\n| mesquite                  | mesquite             |    15.4226  | 00:00:15        |              7.78121 |   1.98203   |\n| nes                       | nes2000              |   163.442   | 00:02:43        |             11.1532  |  14.6543    |\n| nes                       | nes1984              |   432.363   | 00:07:12        |             16.9915  |  25.4458    |\n| nes                       | nes1976              |   411.08    | 00:06:51        |             15.8393  |  25.9532    |\n| nes                       | nes1988              |   333.613   | 00:05:34        |             16.5012  |  20.2175    |\n| nes                       | nes1980              |   220.366   | 00:03:40        |             12.2393  |  18.0048    |\n| nes                       | nes1972              |   453.41    | 00:07:33        |             18.0278  |  25.1506    |\n| one_comp_mm_elim_abs      | one_comp_mm_elim_abs |   921.222   | 00:15:21        |            nan       | nan         |\n"
     ]
    }
   ],
   "source": [
    "summary = results[[\"example\", \"data\", \"stan_time\", \"stan_duration\", \"numpyro_mixed_time\", \"speedup\"]]\n",
    "print(summary.to_markdown(index=False))"
   ]
  },
  {
   "cell_type": "code",
   "execution_count": 6,
   "metadata": {},
   "outputs": [
    {
     "output_type": "execute_result",
     "data": {
      "text/plain": [
       "32"
      ]
     },
     "metadata": {},
     "execution_count": 6
    }
   ],
   "source": [
    "len(summary)"
   ]
  },
  {
   "cell_type": "code",
   "execution_count": 23,
   "metadata": {},
   "outputs": [
    {
     "output_type": "stream",
     "name": "stdout",
     "text": [
      "\\begin{tabular}{llllllllllllr}\n\\toprule\n                   example &                  data & stan\\_status & stan\\_duration & pyro\\_mixed\\_status & pyro\\_mixed\\_duration & numpyro\\_mixed\\_status & numpyro\\_mixed\\_duration & numpyro\\_comprehensive\\_status & numpyro\\_comprehensive\\_duration & numpyro\\_generative\\_status & numpyro\\_generative\\_duration &    speedup \\\\\n\\midrule\n                       arK &                   arK &       \\smark &      00:00:56 &             \\smark &            20:49:07 &                \\mmark &               00:00:12 &                        \\mmark &                       00:00:06 &                     \\mmark &                    00:00:12 &   4.679518 \\\\\n                      dogs &                  dogs &       \\smark &      00:01:56 &             \\smark &            15:50:05 &                \\mmark &               00:00:42 &                        \\emark &                            NaN &                     \\mmark &                    00:00:42 &   2.776931 \\\\\n                  dogs\\_log &                  dogs &       \\smark &      00:01:27 &             \\smark &            12:40:48 &                \\smark &               00:00:42 &                        \\smark &                       00:00:42 &                     \\emark &                         NaN &   2.058313 \\\\\n               earn\\_height &              earnings &       \\smark &      00:01:19 &             \\smark &            00:30:52 &                \\smark &               00:00:12 &                        \\smark &                       00:00:12 &                     \\emark &                         NaN &   6.742132 \\\\\n    eight\\_schools\\_centered &         eight\\_schools &       \\smark &      00:00:12 &             \\smark &            00:20:36 &                \\smark &               00:00:07 &                        \\smark &                       00:00:06 &                     \\smark &                    00:00:07 &   1.755376 \\\\\n eight\\_schools\\_noncentered &         eight\\_schools &       \\smark &      00:00:02 &             \\mmark &            00:04:59 &                \\mmark &               00:00:47 &                        \\smark &                       00:00:46 &                     \\mmark &                    00:00:48 &   0.041291 \\\\\n                   garch11 &                 garch &       \\smark &      00:00:17 &             \\mmark &            08:30:30 &                \\emark &                    NaN &                        \\emark &                            NaN &                     \\emark &                         NaN &        NaN \\\\\n                   gp\\_regr &          gp\\_pois\\_regr &       \\smark &      00:00:03 &             \\emark &                 NaN &                \\mmark &               00:00:11 &                        \\mmark &                       00:00:09 &                     \\mmark &                    00:00:11 &   0.219060 \\\\\n               hmm\\_drive\\_0 &   bball\\_drive\\_event\\_0 &       \\smark &      00:03:59 &             \\smark &            50:29:19 &                \\emark &                    NaN &                        \\emark &                            NaN &                     \\emark &                         NaN &        NaN \\\\\n               hmm\\_example &           hmm\\_example &       \\smark &      00:00:30 &             \\smark &            04:38:53 &                \\emark &                    NaN &                        \\emark &                            NaN &                     \\emark &                         NaN &        NaN \\\\\n      kidscore\\_interaction &                 kidiq &       \\smark &      00:01:46 &             \\smark &            00:48:39 &                \\smark &               00:00:10 &                        \\smark &                       00:00:11 &                     \\emark &                         NaN &  10.128142 \\\\\n   kidscore\\_interaction\\_c2 &   kidiq\\_with\\_mom\\_work &       \\smark &      00:00:11 &             \\smark &            00:04:47 &                \\smark &               00:00:06 &                        \\smark &                       00:00:06 &                     \\emark &                         NaN &   1.702784 \\\\\n         kidscore\\_mom\\_work &   kidiq\\_with\\_mom\\_work &       \\smark &      00:00:14 &             \\smark &            00:06:28 &                \\smark &               00:00:07 &                        \\smark &                       00:00:07 &                     \\emark &                         NaN &   2.106571 \\\\\n            kidscore\\_momhs &                 kidiq &       \\smark &      00:00:05 &             \\smark &            00:05:15 &                \\smark &               00:00:06 &                        \\smark &                       00:00:06 &                     \\emark &                         NaN &   0.937358 \\\\\n          kidscore\\_momhsiq &                 kidiq &       \\smark &      00:00:27 &             \\smark &            00:18:17 &                \\smark &               00:00:07 &                        \\smark &                       00:00:07 &                     \\emark &                         NaN &   3.845383 \\\\\n            kidscore\\_momiq &                 kidiq &       \\smark &      00:00:13 &             \\smark &            00:13:23 &                \\smark &               00:00:07 &                        \\smark &                       00:00:07 &                     \\emark &                         NaN &   1.909499 \\\\\n               kilpisjarvi &       kilpisjarvi\\_mod &       \\smark &      00:00:60 &             \\smark &            05:41:04 &                \\smark &               00:00:15 &                        \\smark &                       00:00:15 &                     \\emark &                         NaN &   3.918809 \\\\\n          log10earn\\_height &              earnings &       \\smark &      00:01:20 &             \\smark &            00:32:10 &                \\mmark &               00:00:12 &                        \\mmark &                       00:00:12 &                     \\emark &                         NaN &   6.718297 \\\\\n       logearn\\_height\\_male &              earnings &       \\smark &      00:03:36 &             \\smark &            00:49:44 &                \\smark &               00:00:17 &                        \\smark &                       00:00:17 &                     \\emark &                         NaN &  12.984676 \\\\\n    logearn\\_logheight\\_male &              earnings &       \\smark &      00:14:13 &             \\smark &            03:09:28 &                \\smark &               00:00:49 &                        \\smark &                       00:00:49 &                     \\emark &                         NaN &  17.451158 \\\\\n         logmesquite\\_logva &              mesquite &       \\smark &      00:00:06 &             \\smark &            00:16:50 &                \\smark &               00:00:06 &                        \\smark &                       00:00:06 &                     \\emark &                         NaN &   0.863219 \\\\\n        logmesquite\\_logvas &              mesquite &       \\smark &      00:00:14 &             \\smark &            00:28:26 &                \\smark &               00:00:07 &                        \\smark &                       00:00:07 &                     \\emark &                         NaN &   1.963332 \\\\\n       logmesquite\\_logvash &              mesquite &       \\smark &      00:00:12 &             \\smark &            00:27:31 &                \\smark &               00:00:07 &                        \\smark &                       00:00:07 &                     \\emark &                         NaN &   1.668726 \\\\\n            lotka\\_volterra &      hudson\\_lynx\\_hare &       \\smark &      00:03:02 &             \\emark &                 NaN &                \\emark &                    NaN &                        \\emark &                            NaN &                     \\emark &                         NaN &        NaN \\\\\n                  mesquite &              mesquite &       \\smark &      00:00:15 &             \\smark &            00:30:43 &                \\smark &               00:00:08 &                        \\smark &                       00:00:08 &                     \\emark &                         NaN &   1.982034 \\\\\n                       nes &               nes2000 &       \\smark &      00:02:43 &             \\smark &            00:28:04 &                \\smark &               00:00:11 &                        \\smark &                       00:00:11 &                     \\emark &                         NaN &  14.654337 \\\\\n                       nes &               nes1984 &       \\smark &      00:07:12 &             \\smark &            00:26:23 &                \\smark &               00:00:17 &                        \\smark &                       00:00:17 &                     \\emark &                         NaN &  25.445778 \\\\\n                       nes &               nes1976 &       \\smark &      00:06:51 &             \\smark &            00:26:11 &                \\smark &               00:00:16 &                        \\smark &                       00:00:16 &                     \\emark &                         NaN &  25.953249 \\\\\n                       nes &               nes1988 &       \\smark &      00:05:34 &             \\smark &            00:26:54 &                \\smark &               00:00:17 &                        \\smark &                       00:00:17 &                     \\emark &                         NaN &  20.217522 \\\\\n                       nes &               nes1980 &       \\smark &      00:03:40 &             \\smark &            00:28:59 &                \\smark &               00:00:12 &                        \\smark &                       00:00:12 &                     \\emark &                         NaN &  18.004828 \\\\\n                       nes &               nes1972 &       \\smark &      00:07:33 &             \\smark &            00:27:02 &                \\smark &               00:00:18 &                        \\smark &                       00:00:18 &                     \\emark &                         NaN &  25.150588 \\\\\n      one\\_comp\\_mm\\_elim\\_abs &  one\\_comp\\_mm\\_elim\\_abs &       \\smark &      00:15:21 &             \\emark &                 NaN &                \\emark &                    NaN &                        \\emark &                            NaN &                     \\emark &                         NaN &        NaN \\\\\n\\bottomrule\n\\end{tabular}\n\n"
     ]
    }
   ],
   "source": [
    "all = results[[\"example\", \"data\", \"stan_status\", \"stan_duration\",\"pyro_mixed_status\", \"pyro_mixed_duration\", \"numpyro_mixed_status\", \"numpyro_mixed_duration\", \"numpyro_comprehensive_status\", \"numpyro_comprehensive_duration\",\"numpyro_generative_status\", \"numpyro_generative_duration\",\n",
    "\"speedup\"]]\n",
    "\n",
    "import re\n",
    "tex_summary = all.replace(\"success\", \"smark\").replace(\"mismatch\", \"mmark\").replace(\"error\", \"emark\").replace(\"NaN\", \"\").replace(\"nan\",\"\")\n",
    "print(re.sub(\n",
    "    pattern=r\"([sem]mark)\",\n",
    "    repl=\"\\\\\\\\\\\\1\",\n",
    "    string = tex_summary.to_latex(index=False)\n",
    "))\n"
   ]
  },
  {
   "cell_type": "code",
   "execution_count": 8,
   "metadata": {},
   "outputs": [],
   "source": [
    "speedup = results[\"stan_time\"] / results[\"numpyro_mixed_time\"]"
   ]
  },
  {
   "cell_type": "code",
   "execution_count": 9,
   "metadata": {},
   "outputs": [
    {
     "output_type": "execute_result",
     "data": {
      "text/plain": [
       "arK-arK                                         4.679518\n",
       "dogs-dogs                                       2.776931\n",
       "dogs-dogs_log                                   2.058313\n",
       "earnings-earn_height                            6.742132\n",
       "eight_schools-eight_schools_centered            1.755376\n",
       "eight_schools-eight_schools_noncentered         0.041291\n",
       "garch-garch11                                        NaN\n",
       "gp_pois_regr-gp_regr                            0.219060\n",
       "bball_drive_event_0-hmm_drive_0                      NaN\n",
       "hmm_example-hmm_example                              NaN\n",
       "kidiq-kidscore_interaction                     10.128142\n",
       "kidiq_with_mom_work-kidscore_interaction_c2     1.702784\n",
       "kidiq_with_mom_work-kidscore_mom_work           2.106571\n",
       "kidiq-kidscore_momhs                            0.937358\n",
       "kidiq-kidscore_momhsiq                          3.845383\n",
       "kidiq-kidscore_momiq                            1.909499\n",
       "kilpisjarvi_mod-kilpisjarvi                     3.918809\n",
       "earnings-log10earn_height                       6.718297\n",
       "earnings-logearn_height_male                   12.984676\n",
       "earnings-logearn_logheight_male                17.451158\n",
       "mesquite-logmesquite_logva                      0.863219\n",
       "mesquite-logmesquite_logvas                     1.963332\n",
       "mesquite-logmesquite_logvash                    1.668726\n",
       "hudson_lynx_hare-lotka_volterra                      NaN\n",
       "mesquite-mesquite                               1.982034\n",
       "nes2000-nes                                    14.654337\n",
       "nes1984-nes                                    25.445778\n",
       "nes1976-nes                                    25.953249\n",
       "nes1988-nes                                    20.217522\n",
       "nes1980-nes                                    18.004828\n",
       "nes1972-nes                                    25.150588\n",
       "one_comp_mm_elim_abs-one_comp_mm_elim_abs            NaN\n",
       "dtype: float64"
      ]
     },
     "metadata": {},
     "execution_count": 9
    }
   ],
   "source": [
    "speedup"
   ]
  },
  {
   "cell_type": "code",
   "execution_count": 10,
   "metadata": {},
   "outputs": [
    {
     "output_type": "execute_result",
     "data": {
      "text/plain": [
       "3.6953204111892295"
      ]
     },
     "metadata": {},
     "execution_count": 10
    }
   ],
   "source": [
    "import scipy.stats\n",
    "\n",
    "scipy.stats.gmean(speedup.dropna())"
   ]
  },
  {
   "cell_type": "code",
   "execution_count": 11,
   "metadata": {},
   "outputs": [
    {
     "output_type": "execute_result",
     "data": {
      "text/plain": [
       "8.619813843161419"
      ]
     },
     "metadata": {},
     "execution_count": 11
    }
   ],
   "source": [
    "speedup.std()"
   ]
  },
  {
   "cell_type": "code",
   "execution_count": 12,
   "metadata": {},
   "outputs": [],
   "source": [
    "stan_cache = preprocess(\"stan_cache\", \"201114_0927_stan_mixed.csv\")\n",
    "stan_compile = preprocess(\"stan_compile\", \"201118_0506_stan_mixed_compile.csv\")\n",
    "numpyro_cache = preprocess(\"numpyro_cache\", \"201118_0759_numpyro_mixed.csv\")\n",
    "numpyro_compile = preprocess(\"numpyro_compile\", \"201118_0858_numpyro_mixed_compile.csv\")\n",
    "numpyro_compile_dune = preprocess(\"numpyro_compile_dune\", \"201118_0723_numpyro_mixed_compile.csv\")"
   ]
  },
  {
   "cell_type": "code",
   "execution_count": 13,
   "metadata": {},
   "outputs": [],
   "source": [
    "compilation = pd.concat([stan_cache, stan_compile, numpyro_cache, numpyro_compile, numpyro_compile_dune], axis=1)\n",
    "compilation = compilation[compilation.stan_cache_status != \"mismatch\"]"
   ]
  },
  {
   "cell_type": "code",
   "execution_count": 14,
   "metadata": {},
   "outputs": [],
   "source": [
    "compilation[\"stan_compilation\"] = compilation.stan_compile_time - compilation.stan_cache_time\n",
    "compilation[\"numpyro_compilation\"] = compilation.numpyro_compile_time - compilation.numpyro_cache_time\n",
    "compilation[\"numpyro_compilation_dune\"] = compilation.numpyro_compile_dune_time - compilation.numpyro_cache_time"
   ]
  },
  {
   "cell_type": "code",
   "execution_count": 15,
   "metadata": {},
   "outputs": [
    {
     "output_type": "execute_result",
     "data": {
      "text/plain": [
       "stan_compilation            10.986828\n",
       "numpyro_compilation          0.450057\n",
       "numpyro_compilation_dune     0.715769\n",
       "dtype: float64"
      ]
     },
     "metadata": {},
     "execution_count": 15
    }
   ],
   "source": [
    "compilation[[\"stan_compilation\", \"numpyro_compilation\", \"numpyro_compilation_dune\"]].mean()"
   ]
  },
  {
   "cell_type": "code",
   "execution_count": 16,
   "metadata": {},
   "outputs": [
    {
     "output_type": "execute_result",
     "data": {
      "text/plain": [
       "stan_compilation            8.470852\n",
       "numpyro_compilation         0.925645\n",
       "numpyro_compilation_dune    0.497894\n",
       "dtype: float64"
      ]
     },
     "metadata": {},
     "execution_count": 16
    }
   ],
   "source": [
    "compilation[[\"stan_compilation\", \"numpyro_compilation\", \"numpyro_compilation_dune\"]].std(axis=0)"
   ]
  },
  {
   "cell_type": "code",
   "execution_count": null,
   "metadata": {},
   "outputs": [],
   "source": []
  }
 ]
}