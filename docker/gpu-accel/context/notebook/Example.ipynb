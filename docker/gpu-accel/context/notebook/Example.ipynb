{
 "cells": [
  {
   "cell_type": "markdown",
   "metadata": {},
   "source": [
    "# Example notebook\n",
    "\n",
    "This example is based on the aspirin test case. The code here is mostly adapted from the existing test infrastructure.\n",
    "\n",
    "Here is the code copied from `<>/deepppl/deepppl/tests/inference`.\n",
    "\n",
    "```\n",
    "from .harness import MCMCTest\n",
    "import numpy as np\n",
    "from pprint import pprint\n",
    "\n",
    "# Warning: Generated quantities does not work with numpyro on this example\n",
    "# (In place mutation of array)\n",
    "\n",
    "def test_aspirin():\n",
    "    data = {}\n",
    "    data['y'] = [2.77, 2.50, 1.84, 2.56, 2.31, -1.15]\n",
    "    data['s'] = [1.65, 1.31, 2.34, 1.67, 1.98, 0.90]\n",
    "    data['N'] = len(data['y'])\n",
    "    data['mu_loc'] = np.mean(data['y'])\n",
    "    data['mu_scale'] = 5 * np.std(data['y'])\n",
    "    data['tau_scale'] = 2.5 * np.std(data['y'])\n",
    "    data['tau_df'] = 4\n",
    "     \n",
    "    t_aspirin = MCMCTest(\n",
    "        name='aspirin',\n",
    "        model_file='deepppl/tests/good/aspirin.stan',\n",
    "        data=data\n",
    "    )\n",
    "\n",
    "    return t_aspirin.run()\n",
    "    \n",
    "if __name__ == \"__main__\":\n",
    "    pprint(test_aspirin())\n",
    "```\n",
    "\n",
    "The file `harness.py` has the data class that controls the test (`MCMCTest`), including the compile of stan, the execution through pyro and the comparison with the vanilla stan implementation.\n",
    "\n",
    "Below is an example based on what `harness` implements.\n",
    "\n"
   ]
  },
  {
   "cell_type": "markdown",
   "metadata": {},
   "source": [
    "## Setup the data"
   ]
  },
  {
   "cell_type": "code",
   "execution_count": null,
   "metadata": {},
   "outputs": [],
   "source": [
    "import numpy as np\n",
    "\n",
    "data = {}\n",
    "data['y'] = [2.77, 2.50, 1.84, 2.56, 2.31, -1.15]\n",
    "data['s'] = [1.65, 1.31, 2.34, 1.67, 1.98, 0.90]\n",
    "data['N'] = len(data['y'])\n",
    "data['mu_loc'] = np.mean(data['y'])\n",
    "data['mu_scale'] = 5 * np.std(data['y'])\n",
    "data['tau_scale'] = 2.5 * np.std(data['y'])\n",
    "data['tau_df'] = 4"
   ]
  },
  {
   "cell_type": "markdown",
   "metadata": {},
   "source": [
    "## Setup model"
   ]
  },
  {
   "cell_type": "code",
   "execution_count": null,
   "metadata": {},
   "outputs": [],
   "source": [
    "# Configuration\n",
    "\n",
    "from dataclasses import dataclass, field\n",
    "import time\n",
    "@dataclass\n",
    "class Config:\n",
    "    iterations: int = 1000\n",
    "    warmups: int = 10\n",
    "    chains: int = 4\n",
    "    thin: int = 2\n",
    "    file: str = \"/opt/user/deepppl/deepppl/tests/good/aspirin.stan\"\n",
    "    \n",
    "@dataclass\n",
    "class TimeIt:\n",
    "    name: str\n",
    "\n",
    "    def __enter__(self):\n",
    "        self.start = time.perf_counter()\n",
    "\n",
    "    def __exit__(self, *exc_info):\n",
    "        print(f\"{self.name} took {time.perf_counter() - self.start}s to complete.\")\n",
    "\n",
    "import numpyro\n",
    "import jax\n",
    "\n",
    "# Request use the GPU\n",
    "numpyro.set_platform(\"gpu\")\n",
    "print(f\"jax version: {jax.__version__}\")\n",
    "print(f\"numpyro version: {numpyro.__version__}\")\n",
    "print(f\"jax target backend: {jax.config.FLAGS.jax_backend_target}\")\n",
    "print(f\"jax target device: {jax.lib.xla_bridge.get_backend().platform}\")\n",
    "\n",
    "from deepppl import PyroModel, NumPyroModel"
   ]
  },
  {
   "cell_type": "code",
   "execution_count": null,
   "metadata": {},
   "outputs": [],
   "source": [
    "with open(Config.file, 'r') as f:\n",
    "    print(f.read())"
   ]
  },
  {
   "cell_type": "markdown",
   "metadata": {},
   "source": [
    "# Stanc3 to numpyro test"
   ]
  },
  {
   "cell_type": "code",
   "execution_count": null,
   "metadata": {},
   "outputs": [],
   "source": [
    "# Copy test file to exercise stanc3\n",
    "!rm -rf /opt/user/stanc3-to-pyro-test\n",
    "!mkdir /opt/user/stanc3-to-pyro-test\n",
    "!cp -rf {Config.file} /opt/user/stanc3-to-pyro-test\n",
    "\n",
    "# Add test directory to python path so that we can load the generated model afterwards.\n",
    "import sys\n",
    "sys.path.append('/opt/user/stanc3-to-pyro-test')"
   ]
  },
  {
   "cell_type": "code",
   "execution_count": null,
   "metadata": {},
   "outputs": [],
   "source": [
    "# Compile file to numpyro and see result\n",
    "!stanc --numpyro /opt/user/stanc3-to-pyro-test/aspirin.stan\n",
    "!cat /opt/user/stanc3-to-pyro-test/aspirin.py"
   ]
  },
  {
   "cell_type": "code",
   "execution_count": null,
   "metadata": {},
   "outputs": [],
   "source": [
    "# We could run the functions from aspirin right away. By importing it.\n",
    "from aspirin import *\n"
   ]
  },
  {
   "cell_type": "code",
   "execution_count": null,
   "metadata": {},
   "outputs": [],
   "source": [
    "# Well generate the model one more time, but thorugh the runtimes that come with stanc3."
   ]
  },
  {
   "cell_type": "code",
   "execution_count": null,
   "metadata": {},
   "outputs": [],
   "source": [
    "from os.path import join\n",
    "from pathlib import Path\n",
    "import json\n",
    "from dataclasses import dataclass, field\n",
    "from runtimes.pyro.dppl import PyroModel\n",
    "from runtimes.numpyro.dppl import NumpyroModel\n",
    "\n",
    "def testPyro(config, data):\n",
    "    print(config.file)\n",
    "    pyro_model = PyroModel(config.file, compile=True)\n",
    "    mcmc = pyro_model.mcmc(config.iterations,\n",
    "                           warmups=config.warmups,\n",
    "                           chains=config.chains,\n",
    "                           thin=config.thin)\n",
    "    inputs = pyro_model.convert_inputs(data)\n",
    "    mcmc.run(**inputs)\n",
    "    return { 'samples': mcmc.get_samples() }\n",
    "\n",
    "def testNumPyro(config, data):\n",
    "    pyro_model = NumpyroModel(config.file, compile=True)\n",
    "    mcmc = pyro_model.mcmc(config.iterations,\n",
    "                           warmups=config.warmups,\n",
    "                           chains=config.chains,\n",
    "                           thin=config.thin)\n",
    "    inputs = pyro_model.convert_inputs(data)\n",
    "    mcmc.run(**inputs)\n",
    "    return { 'samples': mcmc.get_samples() }\n"
   ]
  },
  {
   "cell_type": "code",
   "execution_count": null,
   "metadata": {},
   "outputs": [],
   "source": [
    "# This didn't work for me on Power with libcu10.so error relatedwit initialisation of the CUDA devices.\n",
    "# I suspect this is due to that library commming from some package compiled against a different version of CUDA\n",
    "\n",
    "# samplesPyro = testPyro(Config, data)\n",
    "# print(f'samplesPyro = {samplesPyro}')"
   ]
  },
  {
   "cell_type": "code",
   "execution_count": null,
   "metadata": {},
   "outputs": [],
   "source": [
    "sampleNumPyro = testNumPyro(Config, data)\n",
    "print(f'samplesPyro = {sampleNumPyro}')"
   ]
  },
  {
   "cell_type": "code",
   "execution_count": null,
   "metadata": {},
   "outputs": [],
   "source": []
  }
 ],
 "metadata": {
  "kernelspec": {
   "display_name": "Python 3",
   "language": "python",
   "name": "python3"
  },
  "language_info": {
   "codemirror_mode": {
    "name": "ipython",
    "version": 3
   },
   "file_extension": ".py",
   "mimetype": "text/x-python",
   "name": "python",
   "nbconvert_exporter": "python",
   "pygments_lexer": "ipython3",
   "version": "3.7.9"
  }
 },
 "nbformat": 4,
 "nbformat_minor": 4
}
