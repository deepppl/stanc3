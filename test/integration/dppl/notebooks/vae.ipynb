{
 "cells": [
  {
   "cell_type": "code",
   "execution_count": 1,
   "metadata": {},
   "outputs": [],
   "source": [
    "%matplotlib inline"
   ]
  },
  {
   "cell_type": "code",
   "execution_count": 2,
   "metadata": {},
   "outputs": [],
   "source": [
    "import pandas as pd\n",
    "import numpy as np\n",
    "from matplotlib import pyplot as plt\n",
    "import seaborn as sns\n",
    "from tqdm.notebook import tqdm"
   ]
  },
  {
   "cell_type": "code",
   "execution_count": 3,
   "metadata": {},
   "outputs": [],
   "source": [
    "import torch\n",
    "from torch import nn\n",
    "from pyro import distributions as dist"
   ]
  },
  {
   "cell_type": "code",
   "execution_count": 4,
   "metadata": {},
   "outputs": [],
   "source": [
    "import pyro\n",
    "import os\n",
    "from runtimes.pyro.dppl import PyroModel"
   ]
  },
  {
   "cell_type": "code",
   "execution_count": 5,
   "metadata": {},
   "outputs": [],
   "source": [
    "import torch.utils.data.dataloader as dataloader\n",
    "import torchvision\n",
    "from torchvision import transforms\n",
    "from torchvision.datasets import MNIST"
   ]
  },
  {
   "cell_type": "code",
   "execution_count": 6,
   "metadata": {},
   "outputs": [],
   "source": [
    "plt.style.use('seaborn-white')"
   ]
  },
  {
   "cell_type": "code",
   "execution_count": 7,
   "metadata": {
    "tags": []
   },
   "outputs": [
    {
     "output_type": "stream",
     "name": "stdout",
     "text": "networks {\n  real[,] decoder(real[] x);\n  real[,] encoder(int[,] x);\n}\ndata {\n    int nz;\n    int<lower=0, upper=1> x[28, 28];\n}\nparameters {\n    real z[nz];\n}\nmodel {\n  real mu[28, 28];\n  z ~ normal(0, 1);\n  mu = decoder(z);\n  for (i in 1:28)\n    x[i] ~ bernoulli(mu[i]);\n}\nguide {\n  real encoded[2, nz] = encoder(x);\n  real mu_z[nz] = encoded[1];\n  real sigma_z[nz] = encoded[2];\n  z ~ normal(mu_z, sigma_z);\n}\n"
    }
   ],
   "source": [
    "with open('test/integration/dppl/good/vae.stan', 'r') as source:\n",
    "    print(source.read())"
   ]
  },
  {
   "cell_type": "code",
   "execution_count": 8,
   "metadata": {},
   "outputs": [],
   "source": [
    "batch_size, nx, nh, nz = 256, 28 * 28, 1024, 4"
   ]
  },
  {
   "cell_type": "code",
   "execution_count": 9,
   "metadata": {
    "tags": []
   },
   "outputs": [],
   "source": [
    "def loadData():\n",
    "    train = MNIST(os.environ.get(\"DATA_DIR\", '.') + \"/data\", train=True, download=True, transform=transforms.Compose([\n",
    "        transforms.ToTensor(),  # ToTensor does min-max normalization.\n",
    "    ]), )\n",
    "\n",
    "    test = MNIST(os.environ.get(\"DATA_DIR\", '.') + \"/data\", train=False, download=True, transform=transforms.Compose([\n",
    "        transforms.ToTensor(),  # ToTensor does min-max normalization.\n",
    "    ]), )\n",
    "\n",
    "    dataloader_args = dict(shuffle=True, batch_size=batch_size,\n",
    "                           num_workers=1, pin_memory=False)\n",
    "    train_loader = dataloader.DataLoader(train, **dataloader_args)\n",
    "    test_loader = dataloader.DataLoader(test, **dataloader_args)\n",
    "    return train_loader, test_loader"
   ]
  },
  {
   "cell_type": "code",
   "execution_count": 10,
   "metadata": {},
   "outputs": [],
   "source": [
    "class Decoder(nn.Module):\n",
    "    def __init__(self):\n",
    "        super(Decoder, self).__init__()\n",
    "        self.lh = nn.Linear(nz, nh)\n",
    "        self.lx = nn.Linear(nh, nx)\n",
    "\n",
    "    def forward(self, z):\n",
    "        hidden = torch.relu(self.lh(z))\n",
    "        mu = self.lx(hidden)\n",
    "        return torch.sigmoid(mu.view(-1, 1, 28, 28))\n",
    "\n",
    "# define the PyTorch module that parameterizes the\n",
    "# diagonal gaussian distribution q(z|x)\n",
    "class Encoder(nn.Module):\n",
    "    def __init__(self):\n",
    "        super(Encoder, self).__init__()\n",
    "        self.lh = torch.nn.Linear(nx, nh)\n",
    "        self.lz_mu = torch.nn.Linear(nh, nz)\n",
    "        self.lz_sigma = torch.nn.Linear(nh, nz)\n",
    "        self.softplus = nn.Softplus()\n",
    "\n",
    "    def forward(self, x):\n",
    "        x = x.view((-1, nx))\n",
    "        hidden = torch.relu(self.lh(x))\n",
    "        z_mu = self.lz_mu(hidden)\n",
    "        z_sigma = self.softplus(self.lz_sigma(hidden))\n",
    "        return z_mu, z_sigma"
   ]
  },
  {
   "cell_type": "code",
   "execution_count": 11,
   "metadata": {},
   "outputs": [],
   "source": [
    "train_loader, test_loader = loadData()"
   ]
  },
  {
   "cell_type": "code",
   "execution_count": 12,
   "metadata": {},
   "outputs": [],
   "source": [
    "encoder = Encoder()\n",
    "decoder = Decoder()"
   ]
  },
  {
   "cell_type": "code",
   "execution_count": 13,
   "metadata": {},
   "outputs": [],
   "source": [
    "pyro.clear_param_store()"
   ]
  },
  {
   "cell_type": "code",
   "execution_count": 14,
   "metadata": {},
   "outputs": [],
   "source": [
    "model = PyroModel('test/integration/dppl/good/vae.stan')\n",
    "svi = model.svi(params = {'lr' : 0.01})"
   ]
  },
  {
   "cell_type": "code",
   "execution_count": 15,
   "metadata": {
    "tags": []
   },
   "outputs": [
    {
     "output_type": "display_data",
     "data": {
      "text/plain": "HBox(children=(FloatProgress(value=0.0, description='epoch', max=4.0, style=ProgressStyle(description_width='i…",
      "application/vnd.jupyter.widget-view+json": {
       "version_major": 2,
       "version_minor": 0,
       "model_id": "72873137feab41ea8186faed7b719570"
      }
     },
     "metadata": {}
    },
    {
     "output_type": "display_data",
     "data": {
      "text/plain": "HBox(children=(FloatProgress(value=1.0, bar_style='info', description='mini_batch', layout=Layout(width='20px'…",
      "application/vnd.jupyter.widget-view+json": {
       "version_major": 2,
       "version_minor": 0,
       "model_id": "f94737457b7d414aa14455c8fcc4f572"
      }
     },
     "metadata": {}
    },
    {
     "output_type": "stream",
     "name": "stdout",
     "text": "\n"
    },
    {
     "output_type": "display_data",
     "data": {
      "text/plain": "HBox(children=(FloatProgress(value=1.0, bar_style='info', description='mini_batch', layout=Layout(width='20px'…",
      "application/vnd.jupyter.widget-view+json": {
       "version_major": 2,
       "version_minor": 0,
       "model_id": "9f8adf3a394148f4be2c53b4967b718a"
      }
     },
     "metadata": {}
    },
    {
     "output_type": "stream",
     "name": "stdout",
     "text": "\n"
    },
    {
     "output_type": "display_data",
     "data": {
      "text/plain": "HBox(children=(FloatProgress(value=1.0, bar_style='info', description='mini_batch', layout=Layout(width='20px'…",
      "application/vnd.jupyter.widget-view+json": {
       "version_major": 2,
       "version_minor": 0,
       "model_id": "f160f7b2d6094088be31afd356f2d8c9"
      }
     },
     "metadata": {}
    },
    {
     "output_type": "stream",
     "name": "stdout",
     "text": "\n"
    },
    {
     "output_type": "display_data",
     "data": {
      "text/plain": "HBox(children=(FloatProgress(value=1.0, bar_style='info', description='mini_batch', layout=Layout(width='20px'…",
      "application/vnd.jupyter.widget-view+json": {
       "version_major": 2,
       "version_minor": 0,
       "model_id": "34b7bf9debb24159bc225faeab0c6651"
      }
     },
     "metadata": {}
    },
    {
     "output_type": "stream",
     "name": "stdout",
     "text": "\n\n"
    }
   ],
   "source": [
    "for epoch in tqdm(range(4), desc='epoch'):  # loop over the dataset multiple times\n",
    "    running_loss = 0.0\n",
    "    t = tqdm(enumerate(train_loader, 0), desc='mini_batch')\n",
    "    for j, (imgs, _) in t:\n",
    "        # calculate the loss and take a gradient step\n",
    "        loss = svi.step(nz=nz, x=imgs, decoder=decoder, encoder=encoder)\n",
    "        t.set_postfix(loss = loss)"
   ]
  },
  {
   "cell_type": "code",
   "execution_count": 16,
   "metadata": {},
   "outputs": [],
   "source": [
    "z_loc, z_scale = encoder(imgs)\n",
    "decoded = decoder(dist.Normal(z_loc, z_scale).sample())"
   ]
  },
  {
   "cell_type": "code",
   "execution_count": 17,
   "metadata": {},
   "outputs": [
    {
     "output_type": "execute_result",
     "data": {
      "text/plain": "(-0.5, 27.5, 27.5, -0.5)"
     },
     "metadata": {},
     "execution_count": 17
    },
    {
     "output_type": "display_data",
     "data": {
      "text/plain": "<Figure size 432x288 with 2 Axes>",
      "image/svg+xml": "<?xml version=\"1.0\" encoding=\"utf-8\" standalone=\"no\"?>\n<!DOCTYPE svg PUBLIC \"-//W3C//DTD SVG 1.1//EN\"\n  \"http://www.w3.org/Graphics/SVG/1.1/DTD/svg11.dtd\">\n<!-- Created with matplotlib (https://matplotlib.org/) -->\n<svg height=\"166.581818pt\" version=\"1.1\" viewBox=\"0 0 349.2 166.581818\" width=\"349.2pt\" xmlns=\"http://www.w3.org/2000/svg\" xmlns:xlink=\"http://www.w3.org/1999/xlink\">\n <defs>\n  <style type=\"text/css\">\n*{stroke-linecap:butt;stroke-linejoin:round;}\n  </style>\n </defs>\n <g id=\"figure_1\">\n  <g id=\"patch_1\">\n   <path d=\"M 0 166.581818 \nL 349.2 166.581818 \nL 349.2 0 \nL 0 0 \nz\n\" style=\"fill:#ffffff;\"/>\n  </g>\n  <g id=\"axes_1\">\n   <g clip-path=\"url(#p20ae6ebc41)\">\n    <image height=\"153\" id=\"imagea95714e6cb\" transform=\"scale(1 -1)translate(0 -153)\" width=\"153\" x=\"7.2\" xlink:href=\"data:image/png;base64,\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\" y=\"-6.381818\"/>\n   </g>\n  </g>\n  <g id=\"axes_2\">\n   <g clip-path=\"url(#p6ec2cc4746)\">\n    <image height=\"153\" id=\"imageb27aa499dd\" transform=\"scale(1 -1)translate(0 -153)\" width=\"153\" x=\"189.818182\" xlink:href=\"data:image/png;base64,\niVBORw0KGgoAAAANSUhEUgAAAJkAAACZCAYAAAA8XJi6AAAABHNCSVQICAgIfAhkiAAABZJJREFUeJzt3TtIHFscx/HN9RGfiQ9QExALrQXFLJKkSCUWgo0PUGJjKhUsA2JhIShYacQisYhVDAjBQkHFSrARQcFC0YCCEqJBUcEHQb3dbc5/uLMZf+Nqvp/yx9nZQ/LjMMeZnXl0c3NzEwGE/rnrCeDho2SQo2SQo2SQo2SQo2SQo2SQo2SQo2SQo2SQo2SQo2SQo2SQo2SQo2SQS7zrCdyG8/NzM19aWvJ9jMHBQSf79u2bkyUlJZmfn5ubc7KUlBRzbDQa9T2vh4CVDHKUDHKUDHKUDHKUDHKP4vXXSkdHR2be2dnpe+zU1NStzilWXrvLuro6J+vv7zfH5uXlOVli4v36owArGeQoGeQoGeQoGeTi4sT/x48fTvbmzRtz7ObmZqDvKioqMvOWlhYn29racrIvX74E+v5Yffz40cnevXsX6hyCYiWDHCWDHCWDHCWDHCWDXKi7y+vrazO3dlBtbW3m2OzsbCfLzc01x3Z0dDhZQ0ODObagoMDJrJshrZ2wl+7ubjMfHx93Mq//huLiYidbWVkxx2ZkZPieW5hYySBHySBHySBHySAX6on/xcWFmaelpfk+xtDQkJNZJ/jx4PLy0szfvn3rZBMTE76P63Vpq7Gx0fcxwsRKBjlKBjlKBjlKBjlKBrlQd5d7e3tmXlhY6GReNxeura05WXp6erCJhcy6XPXq1StzrHUJ6eXLl+bY2dlZJ4tl567CSgY5SgY5SgY5Sga5UH/v/v79e99jT05OzPz79+9OVlpa+sdzugupqalOFsu9YIuLi2ZuPYivtrbW/8REWMkgR8kgR8kgR8kgR8kgF+rucmRkxMy9bma0/Pz587amc29lZWWZ+fPnz0OeiT+sZJCjZJCjZJCjZJAL9cT/yZMnZh7LL3UsHz58MHOv+9cs1oPlSkpK/nhOkYj3hqanp8fJNjY2fB+3srLSzF+8eOH7GGFiJYMcJYMcJYMcJYMcJYNcXDxiPaiysjIzX11d9X0M6428Qd9h5PVPG8tlNMvBwYGZez0M8K6xkkGOkkGOkkGOkkHufr2d08Pjx48DH+P379++MhVr4xGJ2E8Bz8zMVE/nVrGSQY6SQY6SQY6SQY6SQe5BXFY6Pj4286qqKidbWlpST+d/RaNRJ5uZmTHHPn36VD0dOVYyyFEyyFEyyFEyyD2Iy0peJ8fT09NOtr+/b44dHh52ssnJSSc7PDw0Px/LPWK/fv1ysqOjI3Os9cC85ORk398VD1jJIEfJIEfJIEfJIPcg/uIfpvn5eTMfHR11sq9fvwb+vubmZif79OmTOTYlJSXw9ymwkkGOkkGOkkGOkkGOkkEubneXp6enZl5TUxPouOXl5Wbe19fnZLHs1s7Ozpysvb3dHDs2Nub7uJbW1lYztx4GGA87TlYyyFEyyFEyyFEyyMXtib/X/VWqZ3C1tLQ4WUVFhZPV19ebn8/Pz3eyy8tLc6x14t/b22uO3d3dNXNLU1OTk33+/NkcG/TZa7FgJYMcJYMcJYMcJYMcJYNc3O4ur66uzHxgYMDJurq61NP5z7Nnz8zc671Rfm1vb5u51w7VL+tyVyQS7uUmVjLIUTLIUTLIUTLIxe2Jv5ednR0nW15eNseOj487WdAXuN43nPjjr0DJIEfJIEfJIEfJIHfvdpexsN6N5HW5ynpuxdzcXKDvX1hYMPOcnBwni+UFsLFgd4m/AiWDHCWDHCWD3IM+8b9rW1tbZm69FHV9fd0ca/3aqLq62hxbUFDgZK9fvzbHJiQkmLkCKxnkKBnkKBnkKBnkKBnk2F1CjpUMcpQMcpQMcpQMcpQMcpQMcpQMcpQMcpQMcpQMcpQMcpQMcpQMcpQMcpQMcpQMcpQMcpQMcpQMcpQMcpQMcpQMcpQMcpQMcpQMcpQMcv8C+mRUC7+BB44AAAAASUVORK5CYII=\" y=\"-6.381818\"/>\n   </g>\n  </g>\n </g>\n <defs>\n  <clipPath id=\"p20ae6ebc41\">\n   <rect height=\"152.181818\" width=\"152.181818\" x=\"7.2\" y=\"7.2\"/>\n  </clipPath>\n  <clipPath id=\"p6ec2cc4746\">\n   <rect height=\"152.181818\" width=\"152.181818\" x=\"189.818182\" y=\"7.2\"/>\n  </clipPath>\n </defs>\n</svg>\n",
      "image/png": "[encoded data removed]"
     },
     "metadata": {}
    }
   ],
   "source": [
    "f, (ax1, ax2) = plt.subplots(1, 2)\n",
    "ax1.imshow(decoded[12].data.squeeze().numpy())\n",
    "ax2.imshow(imgs[12].squeeze().numpy())\n",
    "ax1.axis('off')\n",
    "ax2.axis('off')"
   ]
  },
  {
   "cell_type": "code",
   "execution_count": 18,
   "metadata": {},
   "outputs": [],
   "source": [
    "sample = dist.Bernoulli(decoded[23]).sample()"
   ]
  },
  {
   "cell_type": "code",
   "execution_count": 19,
   "metadata": {},
   "outputs": [
    {
     "output_type": "execute_result",
     "data": {
      "text/plain": "(-0.5, 27.5, 27.5, -0.5)"
     },
     "metadata": {},
     "execution_count": 19
    },
    {
     "output_type": "display_data",
     "data": {
      "text/plain": "<Figure size 432x288 with 2 Axes>",
      "image/svg+xml": "<?xml version=\"1.0\" encoding=\"utf-8\" standalone=\"no\"?>\n<!DOCTYPE svg PUBLIC \"-//W3C//DTD SVG 1.1//EN\"\n  \"http://www.w3.org/Graphics/SVG/1.1/DTD/svg11.dtd\">\n<!-- Created with matplotlib (https://matplotlib.org/) -->\n<svg height=\"166.581818pt\" version=\"1.1\" viewBox=\"0 0 349.2 166.581818\" width=\"349.2pt\" xmlns=\"http://www.w3.org/2000/svg\" xmlns:xlink=\"http://www.w3.org/1999/xlink\">\n <defs>\n  <style type=\"text/css\">\n*{stroke-linecap:butt;stroke-linejoin:round;}\n  </style>\n </defs>\n <g id=\"figure_1\">\n  <g id=\"patch_1\">\n   <path d=\"M 0 166.581818 \nL 349.2 166.581818 \nL 349.2 0 \nL 0 0 \nz\n\" style=\"fill:#ffffff;\"/>\n  </g>\n  <g id=\"axes_1\">\n   <g clip-path=\"url(#p2930b8a340)\">\n    <image height=\"153\" id=\"imageafdc89003f\" transform=\"scale(1 -1)translate(0 -153)\" width=\"153\" x=\"7.2\" xlink:href=\"data:image/png;base64,\niVBORw0KGgoAAAANSUhEUgAAAJkAAACZCAYAAAA8XJi6AAAABHNCSVQICAgIfAhkiAAAAsNJREFUeJzt3cFu4jAUQNHJqP//y3TRbSIRJTfY5pzlqAOFXj3Zcgjb6/V6/YPQ/0//AqxPZORERk5k5ERGTmTkREZOZORERk5k5H4+/QvwZ9u23X+/eupXPe4ZJhk5kZETGTmRkdtWvp5sb9Fbvdwnn2s2Jhk5kZETGTmRkRMZuaV3l3uOjlne9WVv1y1MMnIiIycyciIj93XXkx0t3Fc9FnI9GV9BZORERk5k5ERGbond5Zkd1Ai7rSeN8LpMMnIiIycyciIjN93C/+rxz5mfvfpcd2xI3v3/IzPJyImMnMjIiYycyMgt8WmlJ3dmdoznmWTkREZOZORERm6IY6XqqGjvcUdYjD95tHXmcY9cfT6TjJzIyImMnMjIiYzc1x0rHSnehqe/L6l4rjuYZORERk5k5ERGbrqF/x2L/EJ1VLTCzflMMnIiIycyciIjJzJyw160eOTqje2u/uwd98I487Oz7ST3mGTkREZOZORERm6Ihf+Tn945c3xzxmzXeD3JJCMnMnIiIycyciIjN91Fi3uePJKpboJ3xmx/MpOMnMjIiYycyMhNt/BfYTF99TVM9iczyeiJjJzIyImM3BDXk+2Z7etlRt2QjPDemGTkREZOZORERk5k5KY7VtpT3aZgBG6CB28QGTmRkRMZuWGPlY7MtBCebZNRMcnIiYycyMiJjJzIyE23u5zpO4y+bRd5xCQjJzJyIiMnMnLTLfz33PFJoeJrb+6wwubBJCMnMnIiIycyciIjt8Tu8sjVTyvNdIQ1MpOMnMjIiYycyMgNu/C/Y4FeLLCf/tqbFTYJJhk5kZETGTmRkRMZuWF3l1ePdM4+RuGO5//0a7iDSUZOZORERk5k5Ja4+zVjM8nIiYycyMiJjJzIyImMnMjIiYycyMiJjJzIyImMnMjIiYycyMiJjJzIyImMnMjIiYycyMj9Au5MCgj7XdR6AAAAAElFTkSuQmCC\" y=\"-6.381818\"/>\n   </g>\n  </g>\n  <g id=\"axes_2\">\n   <g clip-path=\"url(#p1f74458f1e)\">\n    <image height=\"153\" id=\"image7b1a3608e4\" transform=\"scale(1 -1)translate(0 -153)\" width=\"153\" x=\"189.818182\" xlink:href=\"data:image/png;base64,\niVBORw0KGgoAAAANSUhEUgAAAJkAAACZCAYAAAA8XJi6AAAABHNCSVQICAgIfAhkiAAABHxJREFUeJzt3cErbGEYx/EzSJlIM6WUImmUlBUKhVhasLFQbKxQIv+GbDQrVlLKn2AjZFL2FmRF2djYkKKZu3afZ3TG+M2ZM76f5dM7c9/u/fZ2zjXOJAqFQiEAhOqi3gBqH5FBjsggR2SQIzLIERnkiAxyRAY5IoMckUGOyCBHZJAjMsgRGeSIDHINUW+gVNfX12Y2MjLirp2bmzOz/f19d206nS5vYyiKkwxyRAY5IoMckUGOyCCXiNtvK01PT5vZ2dlZ6NenUil3vru7a2b39/dmdnJyEvrP6uzsdOfeHW5zc3Po940bTjLIERnkiAxyRAa52F34Z7NZM9vY2IhgJz/X2NhoZhcXF+7aoaEh9XbkOMkgR2SQIzLIERnkiAxysbu7zOfzZvby8uKu3draMrPDw8Nf39NvSCaT7jyXy5nZwMCAeju/ipMMckQGOSKDHJFBLnYX/qX4+PgwM+/zaEHgX2B7iv2YJ5PJmNnR0VGo9/yOd/Oyvb1d9vtWEicZ5IgMckQGOSKDHJFBrqbvLj0PDw/ufGdnx8zm5+fNbHh42H19fX29mRX7zajX19fvtvhFXZ09B66urty1g4ODod+3kjjJIEdkkCMyyBEZ5P7chX8lXV5euvOJiYmy3nd5edmdF3vAX9Q4ySBHZJAjMsgRGeSIDHKxe8R6nIyOjrrz/v5+M7u5uVFvJzKcZJAjMsgRGeSIDHJc+At5nwULgiBoaPhbf+2cZJAjMsgRGeSIDHJEBrmauM25vb11596PdWZnZ921S0tLZjY2NmZm3uPRK+3u7s6df35+mlk13MlykkGOyCBHZJAjMshFf1VYovf3dzPzLtCDwH8q9sHBgbvWm3tPme7r63Nfv7CwYGaPj4/u2mI3KmH19va682q4yPdwkkGOyCBHZJAjMsgRGeRi9yyMt7c3M2tpaYlgJ5XR3d1tZnt7e+7aqakp9XZ+hJMMckQGOSKDHJFBrjp/DvEHFXuw3fr6upnxparAf4gMckQGOSKDHBf+3/D+B72trS3069vb292599mzYl/WWgs4ySBHZJAjMsgRGeSIDHKx+zxZPp83s8XFRXft8fFxWX+W9ziAnp6est7zL+IkgxyRQY7IIEdkkIvdj5W8J0onk8kIdoKwOMkgR2SQIzLIERnkiAxysbu7rKSVlRUzm5mZCf36jo4Odz45OWlmuVzOXTs+Pm5miUTCXdva2mpmxb7fqZKi3wFqHpFBjsggR2SQ48L/G6enp6Fm1WJ1ddXMstlsBDv5ipMMckQGOSKDHJFBjsggVxN3l+l0OuotVIXz8/Oot+DiJIMckUGOyCBHZJCL3WMKPN4XrQZBEHR1dZnZ8/OzuzaVSplZU1OTmT09PZW4u/J4/zyZTMZdu7a2Zmabm5u/vqdScZJBjsggR2SQIzLIERnkauLuEtWNkwxyRAY5IoMckUGOyCBHZJAjMsgRGeSIDHJEBjkigxyRQY7IIEdkkCMyyBEZ5IgMckQGOSKDHJFBjsggR2SQIzLIERnkiAxyRAa5fxS8xLDc4xfpAAAAAElFTkSuQmCC\" y=\"-6.381818\"/>\n   </g>\n  </g>\n </g>\n <defs>\n  <clipPath id=\"p2930b8a340\">\n   <rect height=\"152.181818\" width=\"152.181818\" x=\"7.2\" y=\"7.2\"/>\n  </clipPath>\n  <clipPath id=\"p1f74458f1e\">\n   <rect height=\"152.181818\" width=\"152.181818\" x=\"189.818182\" y=\"7.2\"/>\n  </clipPath>\n </defs>\n</svg>\n",
      "image/png": "[encoded data removed]"
     },
     "metadata": {}
    }
   ],
   "source": [
    "f, (ax1, ax2) = plt.subplots(1, 2)\n",
    "ax1.imshow(sample.data.squeeze().numpy())\n",
    "ax2.imshow(imgs[23].squeeze().numpy())\n",
    "ax1.axis('off')\n",
    "ax2.axis('off')"
   ]
  },
  {
   "cell_type": "code",
   "execution_count": null,
   "metadata": {},
   "outputs": [],
   "source": []
  }
 ],
 "metadata": {
  "kernelspec": {
   "display_name": "Python 3.8.3 64-bit",
   "language": "python",
   "name": "python38364bit95208d0f79fb49a1b9fc2f26e67a75b9"
  },
  "language_info": {
   "codemirror_mode": {
    "name": "ipython",
    "version": 3
   },
   "file_extension": ".py",
   "mimetype": "text/x-python",
   "name": "python",
   "nbconvert_exporter": "python",
   "pygments_lexer": "ipython3",
   "version": "3.8.3-final"
  }
 },
 "nbformat": 4,
 "nbformat_minor": 4
}